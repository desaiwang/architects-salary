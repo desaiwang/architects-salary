{
 "cells": [
  {
   "cell_type": "code",
   "execution_count": 154,
   "metadata": {},
   "outputs": [],
   "source": [
    "from bs4 import BeautifulSoup\n",
    "import re\n",
    "import requests\n",
    "import json\n",
    "import pandas as pd"
   ]
  },
  {
   "cell_type": "markdown",
   "metadata": {},
   "source": [
    "<h2>Parsing Salaries from Archinect.com</h2>\n",
    "<p>I use beautiful soup to parse survey data on Archinect.com. The data from the survey is already structured html, so I broke parsing functions into 3 parts. The sub functions deal with parsing each part.</p>"
   ]
  },
  {
   "cell_type": "code",
   "execution_count": 155,
   "metadata": {},
   "outputs": [],
   "source": [
    "def parse_details1(details_1):\n",
    "    \n",
    "    # Initialize with NA or default values\n",
    "    firm_type = \"NA\"\n",
    "    firm_size = \"NA\"\n",
    "    health_insurance = \"NA\"\n",
    "    overtime = \"NA\"\n",
    "    vacation_days = \"NA\"\n",
    "    annual_bonus = \"NA\"\n",
    "\n",
    "    # Identify details in subcol-1\n",
    "    for detail in details_1:\n",
    "        if detail == \"\": #ignore empty strings\n",
    "            continue\n",
    "        elif \"People\" in detail:\n",
    "            firm_size = detail\n",
    "        elif \"Health Insurance\" in detail:\n",
    "            health_insurance = \"Yes\"\n",
    "        elif \"Overtime\" in detail:\n",
    "            overtime = detail\n",
    "        elif \"Days Vacation\" in detail:\n",
    "            vacation_days = detail.replace(\" Days Vacation\", \"\")\n",
    "        elif \"Bonus\" in detail:\n",
    "            annual_bonus = detail.replace(\"$\", \"\").replace(\" Bonus\", \"\")\n",
    "        else:\n",
    "            firm_type = detail\n",
    "    return firm_type, firm_size, health_insurance, overtime, vacation_days, annual_bonus"
   ]
  },
  {
   "cell_type": "code",
   "execution_count": 156,
   "metadata": {},
   "outputs": [
    {
     "name": "stdout",
     "output_type": "stream",
     "text": [
      "All test cases passed!\n"
     ]
    }
   ],
   "source": [
    "# Test cases for parse_details1 function\n",
    "#return format is: firm_type, firm_size, health_insurance, overtime, vacation_days, annual_bonus\n",
    "test_cases = [\n",
    "  (['Individual', '16-30 People', 'Health Insurance', '15 Days Vacation', '$1,000 Bonus'], (\"Individual\", \"16-30 People\", \"Yes\", \"NA\", \"15\", \"1,000\")),\n",
    "  (['Boutique', '6-10 People'], (\"Boutique\", \"6-10 People\", \"NA\", \"NA\", \"NA\", \"NA\")),\n",
    "  (['101-200 People'], (\"NA\", \"101-200 People\", \"NA\", \"NA\", \"NA\", \"NA\")),\n",
    "   (['No Overtime'], (\"NA\", \"NA\", \"NA\", \"No Overtime\", \"NA\", \"NA\")),\n",
    "   (['Corporate', '31-50 People', 'Health Insurance', 'Unpaid Overtime', '15 Days Vacation', '$10,000 Bonus'], (\"Corporate\", \"31-50 People\", \"Yes\", \"Unpaid Overtime\", \"15\", \"10,000\")),\n",
    "]\n",
    "\n",
    "# Run test cases\n",
    "for i, (input_data, expected_output) in enumerate(test_cases):\n",
    "  result = parse_details1(input_data)\n",
    "  assert result == expected_output, f\"Test case {i+1} failed: expected {expected_output}, got {result}\"\n",
    "print(\"All test cases passed!\")\n"
   ]
  },
  {
   "cell_type": "code",
   "execution_count": 157,
   "metadata": {},
   "outputs": [],
   "source": [
    "def parse_details2(details_2):\n",
    "  # Initialize with NA or default values\n",
    "  work_status = \"NA\"\n",
    "  years_of_experience = \"NA\"\n",
    "  age = \"NA\"\n",
    "  gender = \"NA\"\n",
    "  licensed = \"No\"\n",
    "\n",
    "  # Identify details in subcol-2\n",
    "  for detail in details_2:\n",
    "      if detail == \"\": #ignore empty strings\n",
    "        continue\n",
    "      elif \"time\" in detail:\n",
    "          work_status = detail\n",
    "      elif \"Freelance\" in detail:\n",
    "          work_status = detail\n",
    "      elif \"Years of Experience\" in detail:\n",
    "          #if detail is < 1 Years of Experience then\n",
    "            if \"<\" in detail:\n",
    "                years_of_experience = \"< 1\"\n",
    "            else:\n",
    "                years_of_experience = detail.split()[0]  # Assuming the first part is the number\n",
    "      elif \"Years old\" in detail:\n",
    "          age = detail.split()[0]  # Assuming the first part is the number \n",
    "      elif \"Licensed\" in detail:\n",
    "          licensed = \"Licensed\"\n",
    "      else:\n",
    "          gender = detail\n",
    "\n",
    "  return work_status, years_of_experience, age, gender, licensed\n"
   ]
  },
  {
   "cell_type": "code",
   "execution_count": 158,
   "metadata": {},
   "outputs": [
    {
     "name": "stdout",
     "output_type": "stream",
     "text": [
      "All test cases for parse_details2 passed!\n"
     ]
    }
   ],
   "source": [
    "# Test cases for parse_details2 function\n",
    "test_cases_parse_details2 = [\n",
    "  (['Full-time', '3-5 Years of Experience', '26-30 Years old', 'Male', 'Licensed'], (\"Full-time\", \"3-5\", \"26-30\", \"Male\", \"Licensed\")),\n",
    "  (['Full-time', '2 Years of Experience', '21-25 Years old', 'Female'], (\"Full-time\", \"2\", \"21-25\", \"Female\", \"No\")),\n",
    "  (['', '3-5 Years of Experience', '21-25 Years old', 'Male'], (\"NA\", \"3-5\", \"21-25\", \"Male\", \"No\")),\n",
    "  (['Part-time', '8-10 Years of Experience', '26-30 Years old', 'Female'], (\"Part-time\", \"8-10\", \"26-30\", \"Female\", \"No\")),\n",
    "  (['Freelance', '11-15 Years of Experience', '46-50 Years old', 'Male', 'Licensed'], (\"Freelance\", \"11-15\", \"46-50\", \"Male\", \"Licensed\")),\n",
    "  (['Full-time', '6-7 Years of Experience', '26-30 Years old', 'Male'], (\"Full-time\", \"6-7\", \"26-30\", \"Male\", \"No\")),\n",
    "  (['Full-time', '3-5 Years of Experience', '26-30 Years old', 'Gender: Other'], (\"Full-time\", \"3-5\", \"26-30\", \"Gender: Other\", \"No\")),\n",
    "  (['Full-time', '3-5 Years of Experience', '26-30 Years old', 'Female'], (\"Full-time\", \"3-5\", \"26-30\", \"Female\", \"No\")),\n",
    "  (['Full-time', '< 1 Years of Experience', '21-25 Years old', 'Female'], (\"Full-time\", \"< 1\", \"21-25\", \"Female\", \"No\")),\n",
    "  (['Full-time', '26-30 Years of Experience', '51-55 Years old', 'Male', 'Licensed'], (\"Full-time\", \"26-30\", \"51-55\", \"Male\", \"Licensed\"))\n",
    "]\n",
    "\n",
    "# Run test cases\n",
    "for i, (input_data, expected_output) in enumerate(test_cases_parse_details2):\n",
    "  result = parse_details2(input_data)\n",
    "  assert result == expected_output, f\"Test case {i+1} failed: expected {expected_output}, got {result}\"\n",
    "print(\"All test cases for parse_details2 passed!\")"
   ]
  },
  {
   "cell_type": "code",
   "execution_count": 159,
   "metadata": {},
   "outputs": [],
   "source": [
    "def parse_entry(entry):\n",
    "    id=entry[0]\n",
    "    soup = BeautifulSoup(entry[1], 'html.parser')\n",
    "\n",
    "    # Extract job satisfaction (from img tag)\n",
    "    job_satisfaction_img = soup.find('img', class_='emoticon')\n",
    "    if job_satisfaction_img and job_satisfaction_img.has_attr('data-original-title'):\n",
    "        job_satisfaction = job_satisfaction_img['data-original-title'].split(': ')[1]\n",
    "    else:\n",
    "        job_satisfaction = \"NA\"\n",
    "\n",
    "    # Extract salary, location, and job title (from h3 tag)\n",
    "    h3 = soup.find('h3')\n",
    "    if h3:\n",
    "        # Extract salary\n",
    "        salary_tag = h3.find('span', class_='salary')\n",
    "        #this is either $x per hour or $ per year, parse as is\n",
    "        \n",
    "        salary = re.sub(r'[^0-9,]', '', salary_tag.text) if salary_tag else \"NA\"\n",
    "        salary_unit = re.sub(r'[^a-zA-Z]', '', salary_tag.text) if salary_tag else \"NA\"\n",
    "\n",
    "        # Extract location\n",
    "        location_tag = h3.find_next('span', class_='slash').next_sibling if h3.find('span', class_='slash') else \"\"\n",
    "        location = location_tag.strip() if location_tag else \"NA\"\n",
    "\n",
    "        # Extract job title\n",
    "        job_title_tag = h3.find_all('span', class_='slash')[-1].next_sibling if h3.find_all('span', class_='slash') else \"\"\n",
    "        job_title = job_title_tag.strip() if job_title_tag else \"NA\"\n",
    "    else:\n",
    "        salary = location = job_title = \"NA\"\n",
    "\n",
    "    # Extract details from subcol-1\n",
    "    subcol_1 = soup.find('ul', class_='subcol-1')\n",
    "    details_1 = [li.get_text(strip=True) for li in subcol_1.find_all('li')] if subcol_1 else []\n",
    "    firm_type, firm_size, health_insurance, overtime, vacation_days, annual_bonus = parse_details1(details_1)\n",
    "    \n",
    "    # Extract details from subcol-2\n",
    "    subcol_2 = soup.find('ul', class_='subcol-2')\n",
    "    details_2 = [li.get_text(strip=True) for li in subcol_2.find_all('li')] if subcol_2 else []\n",
    "    work_status, years_of_experience, age, gender, licensed = parse_details2(details_2)\n",
    "\n",
    "\n",
    "    # Extract details from subcol-3\n",
    "    subcol_3 = soup.find('ul', class_='subcol-3')\n",
    "    details_3 = [li.get_text(strip=True) for li in subcol_3.find_all('li')] if subcol_3 else []\n",
    "    undergraduate_school = next((x.replace(\"UG: \", \"\").strip() for x in details_3 if x.startswith(\"UG:\")), \"NA\")\n",
    "    graduate_school = next((x.replace(\"Grad: \", \"\").strip() for x in details_3 if x.startswith(\"Grad:\")), \"NA\")\n",
    "    post_graduate_school = next((x.replace(\"PhD: \", \"\").strip() for x in details_3 if x.startswith(\"PhD:\")), \"NA\")\n",
    "\n",
    "    # Extract date stamp\n",
    "    date_stamp = soup.find('div', class_='date-stamp')\n",
    "    date = date_stamp.get_text(strip=True) if date_stamp else \"NA\"\n",
    "\n",
    "    # Construct the JSON structure\n",
    "    result = {\n",
    "        \"id\": id,\n",
    "        \"Job Satisfaction\": job_satisfaction,\n",
    "        \"Salary\": salary,\n",
    "        \"Salary Unit\": salary_unit,\n",
    "        \"Location\": location,\n",
    "        \"Job Title\": job_title,\n",
    "        \"Firm Type\": firm_type,\n",
    "        \"Firm Size\": firm_size,\n",
    "        \"Health Insurance\": health_insurance,\n",
    "        \"Overtime\": overtime,\n",
    "        \"Vacation Days\": vacation_days,\n",
    "        \"Annual Bonus\": annual_bonus,\n",
    "        \"Work Status\": work_status,\n",
    "        \"Years of Experience\": years_of_experience,\n",
    "        \"Age\": age,\n",
    "        \"Gender\": gender,\n",
    "        \"Licensed\": licensed,\n",
    "        \"Undergraduate School\": undergraduate_school,\n",
    "        \"Graduate School\": graduate_school,\n",
    "        \"Post-Graduate School\": post_graduate_school,\n",
    "        \"Date\": date\n",
    "    }\n",
    "\n",
    "    return result\n"
   ]
  },
  {
   "cell_type": "code",
   "execution_count": 160,
   "metadata": {},
   "outputs": [],
   "source": [
    "def query_data():\n",
    "    url = \"https://salaries.archinect.com/salarypoll/results\" #this is the url to query\n",
    "    params = {\n",
    "        'sEcho': '2',\n",
    "        'iColumns': '2',\n",
    "        'sColumns': '',\n",
    "        'iDisplayStart': '0',\n",
    "        'iDisplayLength': '15000', #set max entries to parse\n",
    "        'mDataProp_0': '0',\n",
    "        'mDataProp_1': '1',\n",
    "        'sSearch': '',\n",
    "        'bRegex': 'false',\n",
    "        'sSearch_0': '',\n",
    "        'bRegex_0': 'false',\n",
    "        'bSearchable_0': 'false',\n",
    "        'sSearch_1': '',\n",
    "        'bRegex_1': 'false',\n",
    "        'bSearchable_1': 'true',\n",
    "        'iSortCol_0': '0',\n",
    "        'sSortDir_0': 'asc',\n",
    "        'iSortingCols': '1',\n",
    "        'bSortable_0': 'true',\n",
    "        'bSortable_1': 'false',\n",
    "        'age': '[]',\n",
    "        'gender': '[]',\n",
    "        'job_title': '[]',\n",
    "        'primary_market': '[]',\n",
    "        'experience': '[]',\n",
    "        'firm_type': '[]',\n",
    "        'firm_size': '[]',\n",
    "        'work_status': '[]',\n",
    "        'license': '[]',\n",
    "        'health_insurance': '[]',\n",
    "        'overtime': '[]',\n",
    "        'annual_bonus': '[]',\n",
    "        'sort_by': 'id',\n",
    "        'salary-range': '0;10000000',\n",
    "        'range_plus': 'true',\n",
    "        'location': 'United States',\n",
    "        'under_graduate_school': '',\n",
    "        'graduate_school': '',\n",
    "        'post_graduate_school': '',\n",
    "        'location_type': 'country',\n",
    "        'salary_time': '[]',\n",
    "        'job_satisfaction': '[]',\n",
    "        '_': '1728972672843'\n",
    "    }\n",
    "\n",
    "    headers = {\n",
    "        'User-Agent': 'Mozilla/5.0 (Windows NT 10.0; Win64; x64) AppleWebKit/537.36 (KHTML, like Gecko) Chrome/58.0.3029.110 Safari/537.3',\n",
    "        'X-Requested-With': 'XMLHttpRequest'\n",
    "    }\n",
    "\n",
    "    # Make the request\n",
    "    response = requests.get(url, params=params, headers=headers)\n",
    "\n",
    "    parsed_data=[]\n",
    "\n",
    "    if response.status_code == 200:\n",
    "        try:\n",
    "            # Parse the JSON response\n",
    "            json_data = response.json()\n",
    "            \n",
    "            for entry in json_data['aaData']:\n",
    "                if entry[0] != \"\":  # Filter out entries with empty first elements\n",
    "                    parsed_entry = parse_entry(entry)\n",
    "                    parsed_data.append(parsed_entry)\n",
    "\n",
    "            # Convert the list of dictionaries into a pandas DataFrame\n",
    "            df = pd.DataFrame(parsed_data)\n",
    "            return df\n",
    "        except json.JSONDecodeError:\n",
    "            print(\"Failed to decode JSON\")\n",
    "    else:\n",
    "        print(f\"Failed to retrieve data. Status code: {response.status_code}\")"
   ]
  },
  {
   "cell_type": "markdown",
   "metadata": {},
   "source": [
    "<h4>Uncomment the two lines below to query data and save to csv. </h4>\n",
    "<p>This can take a bit depending on your internet speed and device specs, so if you just want to analyze data please just read data from the pre-run csv."
   ]
  },
  {
   "cell_type": "code",
   "execution_count": 161,
   "metadata": {},
   "outputs": [],
   "source": [
    "#uncomment to requery data, otherwise just use read_csv from \n",
    "#this takes about 30 seconds on my computer\n",
    "# df = query_data()\n",
    "# df.to_csv(\"241209_archinect_salaries_raw.csv\", index=False)"
   ]
  },
  {
   "cell_type": "code",
   "execution_count": 162,
   "metadata": {},
   "outputs": [],
   "source": [
    "#read data\n",
    "df = pd.read_csv(\"241209_archinect_salaries_raw.csv\")"
   ]
  },
  {
   "cell_type": "code",
   "execution_count": 163,
   "metadata": {},
   "outputs": [
    {
     "data": {
      "text/plain": [
       "0        Dec '24\n",
       "1        Dec '24\n",
       "2        Dec '24\n",
       "3        Dec '24\n",
       "4        Dec '24\n",
       "          ...   \n",
       "14727    Apr '13\n",
       "14728    Apr '13\n",
       "14729    Apr '13\n",
       "14730    Apr '13\n",
       "14731    Apr '13\n",
       "Name: Date, Length: 14732, dtype: object"
      ]
     },
     "execution_count": 163,
     "metadata": {},
     "output_type": "execute_result"
    }
   ],
   "source": [
    "df['Date']"
   ]
  },
  {
   "cell_type": "markdown",
   "metadata": {},
   "source": [
    "<h3>Data cleaning</h3>\n",
    "<p>Setting correct units, deleting outliers, focusing on US and full-time workers</p>"
   ]
  },
  {
   "cell_type": "code",
   "execution_count": 164,
   "metadata": {},
   "outputs": [],
   "source": [
    "#remove the prefixes in Undergraduate Schools and Graduate Schools\n",
    "df['Undergraduate School'] = df['Undergraduate School'].str.replace('UG:', '')\n",
    "df['Graduate School'] = df['Graduate School'].str.replace('Grad:', '')\n",
    "df['Post-Graduate School'] = df['Post-Graduate School'].str.replace('PhD:', '')\n",
    "\n",
    "#remove per from salary type (perhour becomes hour, peryear becomes year)\n",
    "df['Salary Unit'] = df['Salary Unit'].str.replace('per', '')\n",
    "\n",
    "#remove Gender from gender (Gender: Other becomes Other)\n",
    "df['Gender'] = df['Gender'].str.replace('Gender: ', '')\n",
    "\n",
    "#Licensed values changed to either Yes or No\n",
    "df[\"Licensed\"] = df[\"Licensed\"].str.replace('Licensed', 'Yes')\n",
    "\n",
    "#replace 40 in \"Years of Experience\" with 40+\n",
    "df['Years of Experience'] = df['Years of Experience'].replace({\n",
    "            '31- >40': '30-40',   # Replace exact match of '31- >40' to '30-40'\n",
    "            '40': '> 40'           # Replace exact match of '40' to '>40'\n",
    "        })\n",
    "\n",
    "#drop the individuals over 103 age because they seem to be spam inputs\n",
    "df = df[df['Age']!=\"103\"]\n",
    "\n",
    "#this entry represents a 18-20 year old earning 200,000+ per HOUR, definitely wrong\n",
    "df = df[df['id']!=12734]\n",
    "\n",
    "#this represents a 18-20 year old earning 355 per HOUR as the CEO of a 500+ people firm, definitely wrong\n",
    "df = df[df['id']!=2653]"
   ]
  },
  {
   "cell_type": "code",
   "execution_count": 165,
   "metadata": {},
   "outputs": [],
   "source": [
    "#univeristy of hawaii at manoa is misspelled in the data\n",
    "df['Undergraduate School'] = df['Undergraduate School'].str.replace('University of Hawai.i at M.noa', 'University of Hawaiʻi at Mānoa', regex = True)\n",
    "df['Graduate School'] = df['Graduate School'].str.replace('University of Hawai.i at M.noa', 'University of Hawaiʻi at Mānoa', regex = True)\n",
    "df['Post-Graduate School'] = df['Post-Graduate School'].str.replace('University of Hawai.i at M.noa', 'University of Hawaiʻi at Mānoa', regex = True)"
   ]
  },
  {
   "cell_type": "code",
   "execution_count": 166,
   "metadata": {},
   "outputs": [
    {
     "data": {
      "text/plain": [
       "(14728, 21)"
      ]
     },
     "execution_count": 166,
     "metadata": {},
     "output_type": "execute_result"
    }
   ],
   "source": [
    "#we have a total of 14633 entries (this is not fixed, expect higher number as more entries are added)\n",
    "df.shape"
   ]
  },
  {
   "cell_type": "code",
   "execution_count": 167,
   "metadata": {},
   "outputs": [],
   "source": [
    "#examine the duplicates, this is probably due to people clicking submit multiple times\n",
    "duplicates = df[df.duplicated(subset=df.columns.difference(['id']), keep=False)]\n",
    "\n",
    "#remove the duplicates\n",
    "df.drop_duplicates(subset=df.columns.difference(['id']), keep='first', inplace=True)"
   ]
  },
  {
   "cell_type": "code",
   "execution_count": 168,
   "metadata": {},
   "outputs": [],
   "source": [
    "# noticed some weird inputs, investigating\n",
    "criteria = df[\"Post-Graduate School\"].notna() & (df['Date'] == \"Jun '24\") & (df['Location'] == \"Austin, TX, US\")\n",
    "\n",
    "#this seems like bad data, delete all that meet this criteria\n",
    "#df[criteria] (uncomment to see)\n",
    "\n",
    "# Drop the rows that match the criteria\n",
    "df.drop(df[criteria].index, inplace=True)"
   ]
  },
  {
   "cell_type": "code",
   "execution_count": 169,
   "metadata": {},
   "outputs": [],
   "source": [
    "#remove ' character from Date, and extract year\n",
    "df['Date'] = df['Date'].str.replace(\"'\", \"\")\n",
    "\n",
    "df['Date']  = pd.to_datetime(df['Date'], format='%b %y')\n",
    "df['Year'] = df['Date'].dt.year"
   ]
  },
  {
   "cell_type": "code",
   "execution_count": 170,
   "metadata": {},
   "outputs": [],
   "source": [
    "#currently all values are in strings, I want to convert the numerical values to integers, and have NA be pandas NaN\n",
    "\n",
    "assert ((df['Salary']==\"NA\").sum() ==0) #salary doesn't have any NA values, \n",
    "df['Salary'] = df['Salary'].str.replace(',', '').astype(int)\n"
   ]
  },
  {
   "cell_type": "code",
   "execution_count": 171,
   "metadata": {},
   "outputs": [],
   "source": [
    "assert ((df['Job Satisfaction']==\"NA\").sum() ==0)\n",
    "#try to convert Job Satisfaction to int, if fails then put NaN\n",
    "df['Job Satisfaction'] = pd.to_numeric(df['Job Satisfaction'], errors='coerce')\n",
    "\n",
    "#set Job Satisfaction to be a categorical feature\n",
    "df['Job Satisfaction'] = df['Job Satisfaction'].astype(int)\n",
    "\n",
    "df = df[df['Job Satisfaction'].notna()]"
   ]
  },
  {
   "cell_type": "code",
   "execution_count": 172,
   "metadata": {},
   "outputs": [
    {
     "data": {
      "text/plain": [
       "(14635, 22)"
      ]
     },
     "execution_count": 172,
     "metadata": {},
     "output_type": "execute_result"
    }
   ],
   "source": [
    "#when I did this 56 duplicates were removed\n",
    "df.shape"
   ]
  },
  {
   "cell_type": "code",
   "execution_count": 173,
   "metadata": {},
   "outputs": [],
   "source": [
    "#save a copy just in case\n",
    "df_old=df.copy()"
   ]
  },
  {
   "cell_type": "code",
   "execution_count": 174,
   "metadata": {},
   "outputs": [
    {
     "name": "stdout",
     "output_type": "stream",
     "text": [
      "full time:  12405\n",
      "part time:  298\n",
      "freelance:  218\n",
      "not specified:  1714\n"
     ]
    }
   ],
   "source": [
    "#check type of all columns\n",
    "print(\"full time: \", df[df['Work Status']=='Full-time'].shape[0])\n",
    "print(\"part time: \", df[df['Work Status']==\"Part-time\"].shape[0])\n",
    "print(\"freelance: \", df[df['Work Status']==\"Freelance\"].shape[0])\n",
    "print(\"not specified: \", df[df['Work Status'].isna()].shape[0])"
   ]
  },
  {
   "cell_type": "markdown",
   "metadata": {},
   "source": [
    "<p>To preserve as much data as possible, I convert individuals working fulltime and freelance with hourly income to yearly income by multiplying it by 40*52 hours a year. If you want to be more precise feel free to drop those in entirety. I drop part-time individuals.</p>"
   ]
  },
  {
   "cell_type": "code",
   "execution_count": 175,
   "metadata": {},
   "outputs": [],
   "source": [
    "#convert the hourly income to annual income if working full time\n",
    "df_fulltime = df[df['Work Status']!=\"Part-time\"].copy()\n",
    "\n",
    "#TODO: should the hourly rate be extrapolated or just dropped?\n",
    "#df_fulltime[(df_fulltime[\"Salary Unit\"] == \"hour\") & (df_fulltime[\"Salary\"]>100000)]\n",
    "df_fulltime[\"Salary\"] = df_fulltime.apply(lambda x: x['Salary']*40*52 if x['Salary Unit']==\"hour\" and x['Work Status']==\"Full-time\" else x['Salary'], axis=1)\n",
    "\n",
    "\n",
    "#get rid of entries with annual income less than $10,000 (this is probably people who work much less than 40*52 hours a year)\n",
    "df_fulltime = df_fulltime[df_fulltime[\"Salary\"]>=10000]"
   ]
  },
  {
   "cell_type": "markdown",
   "metadata": {},
   "source": [
    "<p>I used the Nominatim package to find latitude and longitude for all locations in the surveys. No need to rerun for all locations, I've saved all locations that were a part of the surveys before October 2024 in location_coordinates.csv. Just need to rerun for those that are not apart of that.</p>"
   ]
  },
  {
   "cell_type": "code",
   "execution_count": 176,
   "metadata": {},
   "outputs": [
    {
     "name": "stdout",
     "output_type": "stream",
     "text": [
      "Requirement already satisfied: geopy in c:\\users\\desai\\.conda\\envs\\4620-a3\\lib\\site-packages (2.4.1)\n",
      "Requirement already satisfied: geographiclib<3,>=1.52 in c:\\users\\desai\\.conda\\envs\\4620-a3\\lib\\site-packages (from geopy) (2.0)\n"
     ]
    },
    {
     "name": "stderr",
     "output_type": "stream",
     "text": [
      "WARNING: Ignoring invalid distribution -atplotlib (c:\\users\\desai\\.conda\\envs\\4620-a3\\lib\\site-packages)\n",
      "WARNING: Ignoring invalid distribution -atplotlib (c:\\users\\desai\\.conda\\envs\\4620-a3\\lib\\site-packages)\n"
     ]
    }
   ],
   "source": [
    "!pip install geopy\n",
    "from geopy.geocoders import Nominatim\n",
    "\n",
    "# Initialize the geolocator\n",
    "geolocator = Nominatim(user_agent=\"architects_locations\")\n",
    "\n",
    "# Function to get coordinates\n",
    "def get_coordinates(location):\n",
    "  try:\n",
    "    loc = geolocator.geocode(location)\n",
    "    if loc:\n",
    "      print(f\"Location: {location}, Latitude: {loc.latitude}, Longitude: {loc.longitude}\")\n",
    "      return (loc.latitude, loc.longitude)\n",
    "    else:\n",
    "      print(f\"Location: {location}, Latitude: None, Longitude: None\")\n",
    "      return (None, None)\n",
    "  except:\n",
    "    return (None, None)\n",
    "\n",
    "# # Get unique locations\n",
    "# unique_locations = df_fulltime['Location'].unique()\n",
    "\n",
    "# # Create a dictionary to store the coordinates for each unique location\n",
    "# location_coordinates = {location: get_coordinates(location) for location in unique_locations}\n",
    "\n",
    "# # Create new columns for latitude and longitude in the original DataFrame\n",
    "# df_fulltime['Latitude'] = df_fulltime['Location'].map(lambda x: location_coordinates[x][0])\n",
    "# df_fulltime['Longitude'] = df_fulltime['Location'].map(lambda x: location_coordinates[x][1])\n",
    "\n",
    "# import csv\n",
    "\n",
    "# # Define the CSV file name\n",
    "# csv_file = \"location_coordinates.csv\"\n",
    "\n",
    "# # Write the dictionary to a CSV file\n",
    "# with open(csv_file, mode='w', newline='') as file:\n",
    "#   writer = csv.writer(file)\n",
    "#   writer.writerow([\"Location\", \"Latitude\", \"Longitude\"])  # Write the header\n",
    "#   for location, coordinates in location_coordinates.items():\n",
    "#     writer.writerow([location, coordinates[0], coordinates[1]])  # Write the data\n"
   ]
  },
  {
   "cell_type": "code",
   "execution_count": 177,
   "metadata": {},
   "outputs": [],
   "source": [
    "# Read the location coordinates from the CSV file\n",
    "location_df = pd.read_csv(\"location_coordinates.csv\")\n",
    "\n",
    "# Merge the location coordinates with the main DataFrame\n",
    "df_fulltime = df_fulltime.merge(location_df, on=\"Location\", how=\"left\")\n",
    "\n",
    "#drop the columns that are not needed\n",
    "#df_fulltime.drop(columns=[\"id\", \"Salary Unit\"], inplace=True)\n",
    "\n",
    "#replace \" People\" with \"\" in Firm Size\n",
    "df_fulltime['Firm Size'] = df_fulltime['Firm Size'].str.replace(\" People\", \"\")\n",
    "df_fulltime['Firm Size'] = df_fulltime['Firm Size'].str.replace(\"501 +\", \"501+\")"
   ]
  },
  {
   "cell_type": "code",
   "execution_count": 178,
   "metadata": {},
   "outputs": [
    {
     "name": "stdout",
     "output_type": "stream",
     "text": [
      "Location: Cedar Falls, IA, US, Latitude: 42.5361805, Longitude: -92.447758\n",
      "Location: Cedar Grove, NJ, US, Latitude: 40.8517662, Longitude: -74.229035\n",
      "Location: Fontana, CA, US, Latitude: 34.0922947, Longitude: -117.43433\n",
      "Location: Steamboat Springs, CO, US, Latitude: 40.4848003, Longitude: -106.831735\n",
      "Location: South Lake Tahoe, CA, US, Latitude: 38.9332411, Longitude: -119.9843482\n"
     ]
    }
   ],
   "source": [
    "# Get new unique locations\n",
    "new_unique_locations = df_fulltime[df_fulltime['Latitude'].isna()]['Location'].unique()\n",
    "\n",
    "# Create a dictionary to store the coordinates for each unique location\n",
    "new_location_coordinates = {location: get_coordinates(location) for location in new_unique_locations}\n",
    "\n",
    "# Create new columns for latitude and longitude in the original DataFrame\n",
    "# Update the DataFrame with new coordinates\n",
    "df_fulltime['Latitude'] = df_fulltime.apply(lambda x: new_location_coordinates[x['Location']][0] if pd.isna(x['Latitude']) else x['Latitude'], axis=1)\n",
    "df_fulltime['Longitude'] = df_fulltime.apply(lambda x: new_location_coordinates[x['Location']][1] if pd.isna(x['Longitude']) else x['Longitude'], axis=1)\n"
   ]
  },
  {
   "cell_type": "code",
   "execution_count": 179,
   "metadata": {},
   "outputs": [],
   "source": [
    "#make sure that there are no more missing latitude and longitude values\n",
    "#note: there might be still be missing locations if Nominatim can't find the location\n",
    "#sadly, these require manual intervention. I manually input around 5 locations for the 13,000+ entries\n",
    "assert len(df_fulltime[df_fulltime['Latitude'].isna()]) == 0"
   ]
  },
  {
   "cell_type": "code",
   "execution_count": 180,
   "metadata": {},
   "outputs": [],
   "source": [
    "#then drop the US in locations because otherwise very repetitive\n",
    "df_fulltime['Location']=df_fulltime['Location'].str.replace(\", US\", \"\")"
   ]
  },
  {
   "cell_type": "code",
   "execution_count": 181,
   "metadata": {},
   "outputs": [
    {
     "data": {
      "text/plain": [
       "Index(['id', 'Job Satisfaction', 'Salary', 'Salary Unit', 'Location',\n",
       "       'Job Title', 'Firm Type', 'Firm Size', 'Health Insurance', 'Overtime',\n",
       "       'Vacation Days', 'Annual Bonus', 'Work Status', 'Years of Experience',\n",
       "       'Age', 'Gender', 'Licensed', 'Undergraduate School', 'Graduate School',\n",
       "       'Post-Graduate School', 'Date', 'Year', 'Latitude', 'Longitude'],\n",
       "      dtype='object')"
      ]
     },
     "execution_count": 181,
     "metadata": {},
     "output_type": "execute_result"
    }
   ],
   "source": [
    "df_fulltime.columns"
   ]
  },
  {
   "cell_type": "markdown",
   "metadata": {},
   "source": [
    "<h4>Initial analysis and cleaning</h4>\n",
    "<p>After limiting data to just fulltime workers, I take a closer look at the entries and get rid of more \"bad\" data.</p>"
   ]
  },
  {
   "cell_type": "code",
   "execution_count": 182,
   "metadata": {},
   "outputs": [
    {
     "data": {
      "image/png": "[encoded data removed]",
      "text/plain": [
       "<Figure size 1200x600 with 1 Axes>"
      ]
     },
     "metadata": {},
     "output_type": "display_data"
    }
   ],
   "source": [
    "import matplotlib.pyplot as plt\n",
    "import seaborn as sns\n",
    "\n",
    "# df_fulltime[df_fulltime[\"Vacation Days\"]>100]\n",
    "plt.figure(figsize=(12, 6))\n",
    "sns.histplot(df_fulltime[df_fulltime[\"Vacation Days\"]<100][\"Vacation Days\"].dropna(), bins=30, kde=True)\n",
    "plt.title(\"Distribution of Vacation Days\")\n",
    "plt.xlabel(\"Vacation Days\")\n",
    "plt.ylabel(\"Frequency\")\n",
    "plt.show()"
   ]
  },
  {
   "cell_type": "code",
   "execution_count": 183,
   "metadata": {},
   "outputs": [
    {
     "data": {
      "text/plain": [
       "2216     CAD8,000\n",
       "7711      ¥42,000\n",
       "9942       €8,460\n",
       "10629     €25,000\n",
       "11185      €2,000\n",
       "Name: Annual Bonus, dtype: object"
      ]
     },
     "execution_count": 183,
     "metadata": {},
     "output_type": "execute_result"
    }
   ],
   "source": [
    "# To get the rows where \"Annual Bonus\" has things other than numbers and commas\n",
    "notnarows = df_fulltime[df_fulltime[\"Annual Bonus\"].notna()]\n",
    "invalid_bonus_rows = notnarows[notnarows[\"Annual Bonus\"].str.contains(r'[^0-9,]', regex=True)]\n",
    "invalid_bonus_rows[\"Annual Bonus\"]"
   ]
  },
  {
   "cell_type": "code",
   "execution_count": 184,
   "metadata": {},
   "outputs": [],
   "source": [
    "#shanghai and stuggart are obviously wrong, so remove ids 5573 and 4576 from df_fulltime\n",
    "df_fulltime = df_fulltime[df_fulltime['id']!=5573]\n",
    "df_fulltime = df_fulltime[df_fulltime['id']!=8747]\n",
    "\n",
    "#do a conversion for the canadian using 1 CAD = 0.72 USD, rewrite id 17103's salary as salary*0.72\n",
    "df_fulltime.loc[df_fulltime['id']==17102, 'Salary'] = round(105000*0.72)\n",
    "df_fulltime.loc[df_fulltime['id']==17102, 'Salary Unit'] = \"year\"\n",
    "df_fulltime.loc[df_fulltime['id']==17102, 'Annual Bonus'] = str(round(8000*0.72))\n",
    "\n",
    "#conversion from 1 EUR to 1.08 USD\n",
    "df_fulltime.loc[df_fulltime['id']==4576, 'Annual Bonus'] = str(round(25000*1.08))\n",
    "df_fulltime.loc[df_fulltime['id']==3825, 'Annual Bonus'] = str(round(2000*1.08))"
   ]
  },
  {
   "cell_type": "code",
   "execution_count": 185,
   "metadata": {},
   "outputs": [],
   "source": [
    "#convert annual bonus to numbers\n",
    "df_fulltime[\"Annual Bonus\"] = df_fulltime[\"Annual Bonus\"].str.replace(r'[^0-9]', '', regex=True).astype(float)"
   ]
  },
  {
   "cell_type": "code",
   "execution_count": 186,
   "metadata": {},
   "outputs": [
    {
     "data": {
      "text/plain": [
       "array(['year', 'hour', 'CADyear', 'localcurrencyyear', 'CHFyear'],\n",
       "      dtype=object)"
      ]
     },
     "execution_count": 186,
     "metadata": {},
     "output_type": "execute_result"
    }
   ],
   "source": [
    "#The annual bonus also revealed some funky salary units, so I will correct these\n",
    "df_fulltime[\"Salary Unit\"].unique()"
   ]
  },
  {
   "cell_type": "code",
   "execution_count": 187,
   "metadata": {},
   "outputs": [],
   "source": [
    "#correct the CAD\n",
    "df_fulltime.loc[df_fulltime['Salary Unit']==\"CADyear\",'Salary Unit'] = \"year\"\n",
    "df_fulltime.loc[df_fulltime['Salary Unit']==\"CADyear\",'Salary'] = round(df_fulltime.loc[df_fulltime['Salary Unit']==\"CADyear\",'Salary']*0.72)"
   ]
  },
  {
   "cell_type": "code",
   "execution_count": 188,
   "metadata": {},
   "outputs": [],
   "source": [
    "#local currency seems to be just usd, so change it to year\n",
    "df_fulltime.loc[df_fulltime['Salary Unit']==\"localcurrencyyear\",'Salary Unit'] = \"year\""
   ]
  },
  {
   "cell_type": "code",
   "execution_count": 189,
   "metadata": {},
   "outputs": [
    {
     "name": "stdout",
     "output_type": "stream",
     "text": [
      "         id  Job Satisfaction  Salary Salary Unit       Location Job Title  \\\n",
      "11282  3616                 7   24000     CHFyear  Neuchatel, KS    Intern   \n",
      "\n",
      "        Firm Type Firm Size Health Insurance       Overtime  ...    Age  \\\n",
      "11282  Individual       2-5              NaN  Paid Overtime  ...  26-30   \n",
      "\n",
      "       Gender Licensed Undergraduate School Graduate School  \\\n",
      "11282  Female      Yes      CEPT University      ETH Zürich   \n",
      "\n",
      "      Post-Graduate School       Date  Year   Latitude  Longitude  \n",
      "11282                  NaN 2013-10-01  2013  39.568052 -96.201946  \n",
      "\n",
      "[1 rows x 24 columns]\n"
     ]
    }
   ],
   "source": [
    "#the salary unit of CHF is in Switzerland, so this is a bad entry, I delete it\n",
    "print(df_fulltime.loc[df_fulltime['Salary Unit']==\"CHFyear\"])\n",
    "df_fulltime = df_fulltime[df_fulltime['id']!=3616]"
   ]
  },
  {
   "cell_type": "code",
   "execution_count": 190,
   "metadata": {},
   "outputs": [
    {
     "data": {
      "text/plain": [
       "array(['year', 'hour'], dtype=object)"
      ]
     },
     "execution_count": 190,
     "metadata": {},
     "output_type": "execute_result"
    }
   ],
   "source": [
    "#Now the units should only be year and hour (hour kept to refer to those that were converted to annual)\n",
    "df_fulltime[\"Salary Unit\"].unique()"
   ]
  },
  {
   "cell_type": "code",
   "execution_count": 191,
   "metadata": {},
   "outputs": [
    {
     "data": {
      "image/png": "[encoded data removed]",
      "text/plain": [
       "<Figure size 1200x600 with 1 Axes>"
      ]
     },
     "metadata": {},
     "output_type": "display_data"
    }
   ],
   "source": [
    "\n",
    "plt.figure(figsize=(12, 6))\n",
    "sns.histplot(df_fulltime[df_fulltime[\"Annual Bonus\"]<15000][\"Annual Bonus\"].dropna(), bins=30, kde=True)\n",
    "plt.title(\"Distribution of Annual Bonus\")\n",
    "plt.xlabel(\"Annual Bonus\")\n",
    "plt.ylabel(\"Frequency\")\n",
    "plt.show()"
   ]
  },
  {
   "cell_type": "markdown",
   "metadata": {},
   "source": [
    "<h4>Inflation Adjusted Income</h4>\n",
    "To adjust past income to today's standards, I calculate inflation rate by dividing current Consumer Price Index (CPI) by the CPI when the survey was taken. I used the average CPI data for US cities found [here](https://fred.stlouisfed.org/series/CPIAUCSL)."
   ]
  },
  {
   "cell_type": "code",
   "execution_count": 192,
   "metadata": {},
   "outputs": [],
   "source": [
    "df_cpi = pd.read_csv(\"CPIAUCSL.csv\")\n",
    "\n",
    "#convert Date to datetime object\n",
    "df_cpi[\"DATE\"] = pd.to_datetime(df_cpi[\"DATE\"])\n",
    "\n",
    "#this information only goes to 2024/10, so for 2024/11 I will use the 2024/10 value\n",
    "new_row = pd.DataFrame({'DATE': [pd.Timestamp('2024-11-01')], 'CPIAUCSL': [df_cpi[df_cpi['DATE'] == '2024-10-01']['CPIAUCSL'].values[0]]})\n",
    "df_cpi = pd.concat([df_cpi, new_row], ignore_index=True)"
   ]
  },
  {
   "cell_type": "code",
   "execution_count": 193,
   "metadata": {},
   "outputs": [
    {
     "data": {
      "text/plain": [
       "10"
      ]
     },
     "execution_count": 193,
     "metadata": {},
     "output_type": "execute_result"
    }
   ],
   "source": [
    "#merge cpi onto df_fulltime\n",
    "df_fulltime = pd.merge(df_fulltime, df_cpi, left_on='Date', right_on='DATE', how='left')\n",
    "df_fulltime.drop(columns=['DATE'], inplace=True)\n",
    "\n",
    "#check to see if there are any missing values\n",
    "df_fulltime['CPIAUCSL'].isna().sum()"
   ]
  },
  {
   "cell_type": "code",
   "execution_count": 194,
   "metadata": {},
   "outputs": [],
   "source": [
    "#calculate inflation-adjusted salary\n",
    "#we just take the last row of CPIAUCSL as the current value (2024/11 which is the same as 2024/10)\n",
    "current_cpi = df_cpi.iloc[-1]['CPIAUCSL']\n",
    "df_fulltime['Inflation Adjusted Salary'] = df_fulltime['Salary'] * (current_cpi/df_fulltime['CPIAUCSL'])"
   ]
  },
  {
   "cell_type": "markdown",
   "metadata": {},
   "source": [
    "<h4>Export to csv, this is used for d3.js</h4>"
   ]
  },
  {
   "cell_type": "code",
   "execution_count": 195,
   "metadata": {},
   "outputs": [
    {
     "data": {
      "text/plain": [
       "(13888, 26)"
      ]
     },
     "execution_count": 195,
     "metadata": {},
     "output_type": "execute_result"
    }
   ],
   "source": [
    "#241114(before official site launch) had 13838 entries\n",
    "#241123 (2 days after launch) has 13855 entries\n",
    "#241209 (2 weeks after launch), archinect poll has 12888 entries\n",
    "df_fulltime.shape"
   ]
  },
  {
   "cell_type": "code",
   "execution_count": 196,
   "metadata": {},
   "outputs": [],
   "source": [
    "#round the inflation adjusted salary to the nearest 100\n",
    "df_fulltime['Inflation Adjusted Salary'] = df_fulltime['Inflation Adjusted Salary'].round(-2)"
   ]
  },
  {
   "cell_type": "code",
   "execution_count": 197,
   "metadata": {},
   "outputs": [],
   "source": [
    "df_fulltime.to_csv(\"241209_archinect_salaries_fulltime.csv\", index=False)"
   ]
  }
 ],
 "metadata": {
  "kernelspec": {
   "display_name": "4620-A3",
   "language": "python",
   "name": "python3"
  },
  "language_info": {
   "codemirror_mode": {
    "name": "ipython",
    "version": 3
   },
   "file_extension": ".py",
   "mimetype": "text/x-python",
   "name": "python",
   "nbconvert_exporter": "python",
   "pygments_lexer": "ipython3",
   "version": "3.10.13"
  }
 },
 "nbformat": 4,
 "nbformat_minor": 2
}
